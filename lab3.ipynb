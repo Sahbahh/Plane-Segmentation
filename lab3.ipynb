{
  "cells": [
    {
      "cell_type": "markdown",
      "metadata": {
        "id": "QHnVupBBn9eR"
      },
      "source": [
        "\n",
        "# Assignment 3\n",
        "\n",
        "This is a template notebook for Assignment 3.\n"
      ]
    },
    {
      "cell_type": "markdown",
      "metadata": {
        "id": "vM54r6jlKTII"
      },
      "source": [
        "## Install dependencies and initialization"
      ]
    },
    {
      "cell_type": "code",
      "execution_count": null,
      "metadata": {
        "id": "9_FzH13EjseR"
      },
      "outputs": [],
      "source": [
        "# # The next 8 lines added to be compatible with version changes (2022/10/13).\n",
        "# # change cuda to 11.1\n",
        "# import os\n",
        "# p = os.getenv('PATH')\n",
        "# ld = os.getenv('LD_LIBRARY_PATH')\n",
        "# os.environ['PATH'] = f\"/usr/local/cuda-11.1/bin:{p}\"\n",
        "# os.environ['LD_LIBRARY_PATH'] = f\"/usr/local/cuda-11.1/lib64:{ld}\"\n",
        "# # change pytorch to 1.9.0 compiled with cuda 11.1\n",
        "# !pip install torch==1.9.0+cu111 torchvision==0.10.0+cu111 -f https://download.pytorch.org/whl/torch_stable.html\n",
        "\n",
        "\n",
        "# # install dependencies:\n",
        "# !pip install pyyaml==5.1 pycocotools>=2.0.1\n",
        "# # !pip install detectron2 -f https://dl.fbaipublicfiles.com/detectron2/wheels/cu101/torch1.6/index.html\n",
        "# !pip install detectron2 -f https://dl.fbaipublicfiles.com/detectron2/wheels/cu111/torch1.9/index.html\n",
        "\n",
        "\n",
        "\n",
        "# #####################\n",
        "\n",
        "import os\n",
        "p = os.getenv('PATH')\n",
        "ld = os.getenv('LD_LIBRARY_PATH')\n",
        "os.environ['PATH'] = f\"/usr/local/cuda-11.3/bin:{p}\"\n",
        "os.environ['LD_LIBRARY_PATH'] = f\"/usr/local/cuda-11.3/lib64:{ld}\"\n",
        "# change pytorch to 1.9.0 compiled with cuda 11.1\n",
        "%pip install torch==1.11.0+cu113 torchvision==0.12.0+cu113 torchaudio==0.11.0 --extra-index-url https://download.pytorch.org/whl/cu113\n",
        "\n",
        "# install dependencies:\n",
        "%pip install pyyaml pycocotools>=2.0.1\n",
        "# !pip install detectron2 -f https://dl.fbaipublicfiles.com/detectron2/wheels/cu101/torch1.6/index.html\n",
        "%pip install 'git+https://github.com/facebookresearch/detectron2.git'\n",
        "\n"
      ]
    },
    {
      "cell_type": "code",
      "execution_count": null,
      "metadata": {
        "id": "6onB2lBAGn8R"
      },
      "outputs": [],
      "source": [
        "import torch, detectron2\n",
        "!nvcc --version\n",
        "TORCH_VERSION = \".\".join(torch.__version__.split(\".\")[:2])\n",
        "CUDA_VERSION = torch.__version__.split(\"+\")[-1]\n",
        "print(\"torch: \", TORCH_VERSION, \"; cuda: \", CUDA_VERSION)\n",
        "print(\"detectron2:\", detectron2.__version__)"
      ]
    },
    {
      "cell_type": "code",
      "execution_count": null,
      "metadata": {
        "id": "dqAUb5Y12qXt"
      },
      "outputs": [],
      "source": [
        "!pwd # shows current directory\n",
        "!ls  # shows all files in this directory\n",
        "!nvidia-smi # shows the specs and the current status of the allocated GPU"
      ]
    },
    {
      "cell_type": "code",
      "execution_count": null,
      "metadata": {
        "id": "b-i4hmGYk1dL"
      },
      "outputs": [],
      "source": [
        "# import some common libraries\n",
        "from google.colab.patches import cv2_imshow\n",
        "from sklearn.metrics import jaccard_score\n",
        "from PIL import Image, ImageDraw\n",
        "from tqdm.notebook import tqdm\n",
        "import pandas as pd\n",
        "import numpy as np\n",
        "import datetime\n",
        "import random\n",
        "import json\n",
        "import cv2\n",
        "import csv\n",
        "import os\n",
        "\n",
        "# import some common pytorch utilities\n",
        "from torch.utils.data import Dataset, DataLoader\n",
        "import torchvision.transforms as transforms\n",
        "from torch.autograd import Variable\n",
        "import torch.nn.functional as F\n",
        "import torch.nn as nn\n",
        "import torch\n",
        "\n",
        "# import some common detectron2 utilities\n",
        "import detectron2\n",
        "from detectron2 import model_zoo\n",
        "from detectron2.config import get_cfg\n",
        "from detectron2.structures import BoxMode\n",
        "from detectron2.engine import DefaultTrainer\n",
        "from detectron2.engine import DefaultPredictor\n",
        "from detectron2.utils.logger import setup_logger\n",
        "from detectron2.utils.visualizer import ColorMode\n",
        "from detectron2.utils.visualizer import Visualizer\n",
        "from detectron2.data import build_detection_test_loader\n",
        "from detectron2.data import MetadataCatalog, DatasetCatalog\n",
        "from detectron2.evaluation import COCOEvaluator, inference_on_dataset\n",
        "setup_logger()"
      ]
    },
    {
      "cell_type": "code",
      "execution_count": null,
      "metadata": {
        "id": "tUA_j6AF1L5Y"
      },
      "outputs": [],
      "source": [
        "# Make sure that GPU is available for your notebook.\n",
        "# Otherwise, you need to update the settungs in Runtime -> Change runtime type -> Hardware accelerator\n",
        "torch.cuda.is_available()"
      ]
    },
    {
      "cell_type": "code",
      "execution_count": null,
      "metadata": {
        "id": "rbd-VWypKf5i"
      },
      "outputs": [],
      "source": [
        "from google.colab import drive\n",
        "import os\n",
        "import shutil\n",
        "\n",
        "# Mount Google Drive\n",
        "drive.mount('/content/drive')\n",
        "\n",
        "# Define the source and destination directories\n",
        "BASE_DIR = '/content/drive/My Drive/Colab Notebooks/CMPT_CV_lab3'\n",
        "LOCAL_DIR = '/content/CMPT_CV_lab3'\n",
        "OUTPUT_DIR = os.path.join(LOCAL_DIR, 'output')\n",
        "\n",
        "# Copy the data to local VM\n",
        "shutil.copytree(BASE_DIR, LOCAL_DIR)\n"
      ]
    },
    {
      "cell_type": "code",
      "execution_count": null,
      "metadata": {
        "id": "jPOj6wpTf1Pz"
      },
      "outputs": [],
      "source": [
        "# from sklearn.model_selection import train_test_split\n",
        "# import glob\n",
        "\n",
        "# all_train_images = glob.glob(os.path.join(LOCAL_DIR, 'data/train/*.png'))\n",
        "# test_images = glob.glob(os.path.join(LOCAL_DIR, 'data/test/*.png'))\n",
        "\n",
        "# # 80% train and 20% validation\n",
        "# train_images, val_images = train_test_split(all_train_images, test_size=0.2, random_state=42)\n"
      ]
    },
    {
      "cell_type": "markdown",
      "metadata": {
        "id": "Vk4gID50K03a"
      },
      "source": [
        "## Part 1: Object Detection"
      ]
    },
    {
      "cell_type": "markdown",
      "metadata": {
        "id": "xRV-KFJzlur4"
      },
      "source": [
        "### Data Loader"
      ]
    },
    {
      "cell_type": "code",
      "execution_count": null,
      "metadata": {
        "id": "ZNZJIlQnvMlc"
      },
      "outputs": [],
      "source": [
        "## spliting train and val\n",
        "## 10% validation\n",
        "\n",
        "# from sklearn.model_selection import train_test_split\n",
        "# import json\n",
        "# import os\n",
        "\n",
        "# # Function to populate the annotations_split variable\n",
        "# annotations_split = {}\n",
        "\n",
        "# def split_train_val():\n",
        "#     json_file = os.path.join(data_dir, \"train.json\")\n",
        "#     with open(json_file) as f:\n",
        "#         imgs_anns = json.load(f)\n",
        "\n",
        "#     # Split the loaded annotations into training and validation sets\n",
        "#     train_anns, val_anns = train_test_split(imgs_anns, test_size=0.1, random_state=42)\n",
        "#     annotations_split['train'] = train_anns\n",
        "#     annotations_split['val'] = val_anns\n",
        "\n",
        "# # Run the function to perform the split\n",
        "# split_train_val()\n",
        "\n",
        "# # Print out the number of annotations in each set to verify the split\n",
        "# print(f\"Total annotations: {len(train_imgs_anns)}\")\n",
        "# print(f\"Training annotations: {len(train_anns)}\")\n",
        "# print(f\"Validation annotations: {len(val_anns)}\")\n"
      ]
    },
    {
      "cell_type": "code",
      "execution_count": null,
      "metadata": {
        "id": "dq9GY37ml1kr"
      },
      "outputs": [],
      "source": [
        "'''\n",
        "# This function should return a list of data samples in which each sample is a dictionary.\n",
        "# Make sure to select the correct bbox_mode for the data\n",
        "# For the test data, you only have access to the images, therefore, the annotations should be empty.\n",
        "# Other values could be obtained from the image files.\n",
        "# TODO: approx 35 lines\n",
        "'''\n",
        "\n",
        "# def get_detection_data(set_name):\n",
        "#   data_dirs = '{}/data'.format(BASE_DIR)\n",
        "#   dataset = []\n",
        "\n",
        "\n",
        "def get_detection_data(set_name):\n",
        "    data_dirs = '{}/data'.format(BASE_DIR)\n",
        "    path = os.path.join(data_dirs, set_name)\n",
        "    dataset = []\n",
        "\n",
        "    if set_name == 'train':\n",
        "      json_file = os.path.join(data_dirs, \"train.json\")\n",
        "\n",
        "      with open(json_file) as f:\n",
        "          train_imgs_anns = json.load(f)\n",
        "\n",
        "      read = []\n",
        "      for idx, v in enumerate(train_imgs_anns):\n",
        "        record = {}\n",
        "        filename = os.path.join(path, v[\"file_name\"])\n",
        "        if v[\"file_name\"] not in read or len(read) == 0:\n",
        "          height, width = cv2.imread(filename).shape[:2]\n",
        "          record[\"file_name\"] = filename\n",
        "          record[\"image_id\"] = idx\n",
        "          record[\"height\"] = height\n",
        "          record[\"width\"] = width\n",
        "          record[\"annotations\"] = []\n",
        "          read.append(v[\"file_name\"])\n",
        "          dataset.append(record)\n",
        "\n",
        "        obj = {\n",
        "                    \"bbox\": v['bbox'],\n",
        "                    \"bbox_mode\": BoxMode.XYWH_ABS,\n",
        "                    \"segmentation\": v['segmentation'],\n",
        "                    \"category_id\": 0,\n",
        "                    \"iscrowd\": v['iscrowd'],\n",
        "                    \"area\": v['area'],\n",
        "                }\n",
        "\n",
        "        read_size = len(read)\n",
        "        dataset[read_size - 1][\"annotations\"].append(obj)\n",
        "\n",
        "    elif set_name == 'test':\n",
        "      for file_name in os.listdir(path):\n",
        "        record = {}\n",
        "        filename = os.path.join(path, file_name)\n",
        "        height, width = cv2.imread(filename).shape[:2]\n",
        "        record[\"file_name\"] = filename\n",
        "        record[\"height\"] = height\n",
        "        record[\"width\"] = width\n",
        "        record[\"annotations\"] = []\n",
        "        dataset.append(record)\n",
        "\n",
        "    return dataset\n",
        "\n",
        "\n",
        "# check if train is loading\n",
        "# dataset_dicts = get_detection_data(\"train\")\n",
        "# print(f\"Number of elements in dataset_dicts: {len(dataset_dicts)}\")\n",
        "\n",
        "# if dataset_dicts:\n",
        "#     print(\"First few elements of dataset_dicts:\")\n",
        "#     for i, d in enumerate(dataset_dicts[:3]):\n",
        "#         print(f\"Element {i}: {d}\")\n",
        "# else:\n",
        "#     print(\"dataset_dicts is empty.\")\n"
      ]
    },
    {
      "cell_type": "code",
      "execution_count": null,
      "metadata": {
        "id": "xCH-2mWxDVVu"
      },
      "outputs": [],
      "source": [
        "'''\n",
        "# Remember to add your dataset to DatasetCatalog and MetadataCatalog\n",
        "# Consdier \"data_detection_train\" and \"data_detection_test\" for registration\n",
        "# You can also add an optional \"data_detection_val\" for your validation by spliting the training data\n",
        "# TODO: approx 5 lines\n",
        "'''\n",
        "\n",
        "# Register the train dataset\n",
        "DatasetCatalog.register(\"data_detection_train\", lambda: get_detection_data(\"train\"))\n",
        "MetadataCatalog.get(\"data_detection_train\").set(thing_classes=[\"plane\"])\n",
        "\n",
        "# Register the test dataset\n",
        "DatasetCatalog.register(\"data_detection_test\", lambda: get_detection_data(\"test\"))\n",
        "MetadataCatalog.get(\"data_detection_test\").set(thing_classes=[\"plane\"])\n",
        "\n",
        "plane_metadata = MetadataCatalog.get(\"data_detection_train\")\n",
        "\n",
        "\n",
        "# for d in [\"train\", \"test\", \"val\"]:\n",
        "#   DatasetCatalog.register(\"data_detection_\" + d, lambda d=d: get_detection_data(d))\n",
        "#   MetadataCatalog.get(\"data_detection_\" + d).set(thing_classes=[\"plane\"])\n",
        "# plane_metadata = MetadataCatalog.get(\"plane_train\")\n"
      ]
    },
    {
      "cell_type": "code",
      "execution_count": null,
      "metadata": {
        "id": "qNSdXCL_DVAz"
      },
      "outputs": [],
      "source": [
        "'''\n",
        "# Visualize some samples using Visualizer to make sure that the function works correctly\n",
        "# TODO: approx 5 lines\n",
        "'''\n",
        "\n",
        "dataset_dicts = get_detection_data(\"train\")\n",
        "for sample in random.sample(dataset_dicts, 3):\n",
        "    img = cv2.imread(sample[\"file_name\"])\n",
        "    visualizer = Visualizer(img[:, :, ::-1], metadata=plane_metadata, scale=0.5)\n",
        "    out = visualizer.draw_dataset_dict(sample)\n",
        "    cv2_imshow(out.get_image()[:, :, ::-1])\n"
      ]
    },
    {
      "cell_type": "markdown",
      "metadata": {
        "id": "uM1thbN-ntjI"
      },
      "source": [
        "### Set Configs"
      ]
    },
    {
      "cell_type": "code",
      "execution_count": null,
      "metadata": {
        "id": "HUjkwRsOn1O0"
      },
      "outputs": [],
      "source": [
        "'''\n",
        "# Set the configs for the detection part in here.\n",
        "# TODO: approx 15 lines\n",
        "'''\n",
        "cfg = get_cfg()\n",
        "cfg.OUTPUT_DIR = \"{}/output/\".format(BASE_DIR)\n",
        "\n",
        "cfg.merge_from_file(model_zoo.get_config_file('COCO-Detection/faster_rcnn_R_101_FPN_3x.yaml'))\n",
        "# cfg.DATASETS.TEST = (\"data_detection_val\",)\n",
        "cfg.DATASETS.TRAIN = (\"data_detection_train\")\n",
        "cfg.DATASETS.TEST = ()\n",
        "\n",
        "cfg.DATALOADER.NUM_WORKERS = 4\n",
        "cfg.MODEL.WEIGHTS = model_zoo.get_checkpoint_url(\"COCO-Detection/faster_rcnn_R_101_FPN_3x.yaml\")\n",
        "\n",
        "# (MAX_ITER = 500, BATCH_SIZE_PER_IMAGE = 512, IMS_PER_BATCH = 2, BASE_LR = 0.00025)\n",
        "cfg.SOLVER.IMS_PER_BATCH = 2  ## 4 / 8\n",
        "cfg.SOLVER.BASE_LR = 0.003  ##  0.001 / 0.0001 /  0.0002/ 0.00025 /\n",
        "cfg.SOLVER.MAX_ITER = 800  ## 100 / 200 / 500 / 1000\n",
        "cfg.SOLVER.STEPS = []\n",
        "cfg.MODEL.ROI_HEADS.BATCH_SIZE_PER_IMAGE = 512  ## 256\n"
      ]
    },
    {
      "cell_type": "markdown",
      "metadata": {
        "id": "P4rql8pNokE4"
      },
      "source": [
        "### Training"
      ]
    },
    {
      "cell_type": "code",
      "execution_count": null,
      "metadata": {
        "id": "7d3KxiHO_0gb"
      },
      "outputs": [],
      "source": [
        "'''\n",
        "# Create a DefaultTrainer using the above config and train the model\n",
        "# TODO: approx 5 lines\n",
        "'''\n",
        "\n",
        "os.makedirs(cfg.OUTPUT_DIR, exist_ok=True) # output directory\n",
        "trainer = DefaultTrainer(cfg)\n",
        "trainer.resume_or_load(resume= False)\n",
        "trainer.train()\n"
      ]
    },
    {
      "cell_type": "markdown",
      "metadata": {
        "id": "fRVEiICco3SV"
      },
      "source": [
        "### Evaluation and Visualization"
      ]
    },
    {
      "cell_type": "code",
      "execution_count": null,
      "metadata": {
        "id": "VYCIXdMZvDYL"
      },
      "outputs": [],
      "source": [
        "'''\n",
        "# After training the model, you need to update cfg.MODEL.WEIGHTS\n",
        "# Define a DefaultPredictor\n",
        "'''\n",
        "cfg.MODEL.WEIGHTS = os.path.join(cfg.OUTPUT_DIR, \"model_final.pth\")\n",
        "cfg.MODEL.ROI_HEADS.SCORE_THRESH_TEST = 0.6   #testing threshold\n",
        "predictor = DefaultPredictor(cfg)"
      ]
    },
    {
      "cell_type": "code",
      "execution_count": null,
      "metadata": {
        "id": "_hRCf86KGi5v"
      },
      "outputs": [],
      "source": [
        "'''\n",
        "# Visualize the output for 3 random test samples\n",
        "# TODO: approx 10 lines\n",
        "'''\n",
        "\n",
        "# subset of the test dataset with 3 random samples\n",
        "test_data_samples = get_detection_data(\"test\")\n",
        "selected_samples = random.sample(test_data_samples, 3)\n",
        "\n",
        "for sample in selected_samples:\n",
        "    image = cv2.imread(sample[\"file_name\"])\n",
        "    prediction_results = predictor(image)\n",
        "    visualizer = Visualizer(image[:, :, ::-1],\n",
        "                            metadata=plane_metadata,\n",
        "                            scale=0.5,\n",
        "                            instance_mode=ColorMode.IMAGE_BW)\n",
        "    visualization_output = visualizer.draw_instance_predictions(prediction_results[\"instances\"].to(\"cpu\"))\n",
        "    cv2_imshow(visualization_output.get_image()[:, :, ::-1])\n"
      ]
    },
    {
      "cell_type": "code",
      "execution_count": null,
      "metadata": {
        "id": "D0wRdlcKo6BD"
      },
      "outputs": [],
      "source": [
        "'''\n",
        "# Use COCOEvaluator and build_detection_train_loader\n",
        "# You can save the output predictions using inference_on_dataset\n",
        "# TODO: approx 5 lines\n",
        "'''\n",
        "evaluator = COCOEvaluator(\"data_detection_train\", output_dir=\"./output\")\n",
        "val_loader = build_detection_test_loader(cfg, \"data_detection_train\")\n",
        "print(inference_on_dataset(predictor.model, val_loader, evaluator))\n"
      ]
    },
    {
      "cell_type": "markdown",
      "metadata": {
        "id": "EwYvbwcjpKBk"
      },
      "source": [
        "### Improvements\n",
        "\n",
        "For this part, you can bring any improvement which you have by adding new input parameters to the previous functions or defining new functions and variables."
      ]
    },
    {
      "cell_type": "code",
      "execution_count": null,
      "metadata": {
        "id": "xdR6KbCZpOlk"
      },
      "outputs": [],
      "source": [
        "'''\n",
        "# Bring any changes and updates regarding the improvement in here\n",
        "'''\n"
      ]
    },
    {
      "cell_type": "markdown",
      "metadata": {
        "id": "98_M4TooqSs2"
      },
      "source": [
        "## Part 2: Semantic Segmentation"
      ]
    },
    {
      "cell_type": "markdown",
      "metadata": {
        "id": "ByAEsMtIPLrO"
      },
      "source": [
        "### Data Loader"
      ]
    },
    {
      "cell_type": "code",
      "source": [
        "## preload data\n",
        "from detectron2.utils.visualizer import GenericMask\n",
        "import cv2\n",
        "from torchvision import transforms\n",
        "import torch\n",
        "from torch.utils.data import Dataset, DataLoader\n",
        "from tqdm import tqdm\n",
        "\n",
        "# Function to preprocess and load data into RAM\n",
        "def preload_data():\n",
        "    data_list = get_detection_data('train')\n",
        "    preloaded_data = []\n",
        "    for data in data_list:\n",
        "        img = cv2.imread(data['file_name'])  # Load image here to avoid reloading for each annotation\n",
        "        img = cv2.cvtColor(img, cv2.COLOR_BGR2RGB)\n",
        "        for idx, ann in enumerate(data['annotations']):\n",
        "            # Process each image and mask\n",
        "            obj_img, obj_mask = get_instance_sample(data, idx, img)\n",
        "            preloaded_data.append({'image': obj_img, 'mask': obj_mask})\n",
        "    return preloaded_data\n"
      ],
      "metadata": {
        "id": "DLrxiuRR6UwV"
      },
      "execution_count": null,
      "outputs": []
    },
    {
      "cell_type": "code",
      "execution_count": null,
      "metadata": {
        "id": "peQ95zLuIpkk"
      },
      "outputs": [],
      "source": [
        "'''\n",
        "# Write a function that returns the cropped image and corresponding mask regarding the target bounding box\n",
        "# idx is the index of the target bbox in the data\n",
        "# high-resolution image could be passed or could be load from data['file_name']\n",
        "# You can use the mask attribute of detectron2.utils.visualizer.GenericMask\n",
        "#     to convert the segmentation annotations to binary masks\n",
        "# TODO: approx 10 lines\n",
        "'''\n",
        "\n",
        "def get_instance_sample(data, idx, img):\n",
        "    bbox = data['annotations'][idx]['bbox']\n",
        "    segmentation = data['annotations'][idx]['segmentation']\n",
        "    mask = GenericMask(segmentation, data['height'], data['width']).mask\n",
        "\n",
        "    # Crop and resize\n",
        "    x, y, w, h = [int(v) for v in bbox]\n",
        "    obj_img = img[y:y+h, x:x+w]\n",
        "    obj_mask = mask[y:y+h, x:x+w]\n",
        "    obj_img = cv2.resize(obj_img, (128, 128))\n",
        "    obj_mask = cv2.resize(obj_mask, (128, 128), interpolation=cv2.INTER_NEAREST)\n",
        "\n",
        "    # Convert to tensors\n",
        "    obj_img = transforms.ToTensor()(obj_img)\n",
        "    obj_mask = torch.tensor(obj_mask, dtype=torch.float32).unsqueeze(0)\n",
        "\n",
        "    return obj_img, obj_mask"
      ]
    },
    {
      "cell_type": "code",
      "execution_count": null,
      "metadata": {
        "id": "sxrc9X_pjzj-"
      },
      "outputs": [],
      "source": [
        "'''\n",
        "# We have provided a template data loader for your segmentation training\n",
        "# You need to complete the __getitem__() function before running the code\n",
        "# You may also need to add data augmentation or normalization in here\n",
        "'''\n",
        "\n",
        "class PlaneDataset(Dataset):\n",
        "    def __init__(self, preloaded_data):\n",
        "        self.preloaded_data = preloaded_data\n",
        "\n",
        "    def __len__(self):\n",
        "        return len(self.preloaded_data)\n",
        "\n",
        "    def __getitem__(self, idx):\n",
        "        sample = self.preloaded_data[idx]\n",
        "        return sample['image'], sample['mask']\n",
        "\n",
        "# Function to get the DataLoader\n",
        "def get_plane_dataset(batch_size=2, preloaded_data=None):\n",
        "    dataset = PlaneDataset(preloaded_data)\n",
        "    loader = DataLoader(dataset, batch_size=batch_size, num_workers=4, pin_memory=True, shuffle=True)\n",
        "    return loader\n",
        "\n"
      ]
    },
    {
      "cell_type": "code",
      "source": [
        "# Preload data\n",
        "preloaded_data = preload_data()\n",
        "\n",
        "# Initialize the DataLoader with preloaded data\n",
        "loader = get_plane_dataset(batch_size=2, preloaded_data=preloaded_data)\n",
        "\n"
      ],
      "metadata": {
        "id": "2xHX-xPUFCD5"
      },
      "execution_count": null,
      "outputs": []
    },
    {
      "cell_type": "markdown",
      "metadata": {
        "id": "m6eH3NKaQQfc"
      },
      "source": [
        "### Network"
      ]
    },
    {
      "cell_type": "code",
      "execution_count": null,
      "metadata": {
        "id": "PeqR3s3dSBPN"
      },
      "outputs": [],
      "source": [
        "'''\n",
        "# convolution module as a template layer consists of conv2d layer, batch normalization, and relu activation\n",
        "'''\n",
        "class conv(nn.Module):\n",
        "    def __init__(self, in_ch, out_ch, activation=True):\n",
        "        super(conv, self).__init__()\n",
        "        if(activation):\n",
        "          self.layer = nn.Sequential(\n",
        "             nn.Conv2d(in_ch, out_ch, 3, padding=1),\n",
        "             nn.BatchNorm2d(out_ch),\n",
        "             nn.ReLU(inplace=True)\n",
        "          )\n",
        "        else:\n",
        "          self.layer = nn.Sequential(\n",
        "             nn.Conv2d(in_ch, out_ch, 3, padding=1)\n",
        "             )\n",
        "\n",
        "    def forward(self, x):\n",
        "        x = self.layer(x)\n",
        "        return x\n",
        "\n",
        "'''\n",
        "# downsampling module equal to a conv module followed by a max-pool layer\n",
        "'''\n",
        "class down(nn.Module):\n",
        "    def __init__(self, in_ch, out_ch):\n",
        "        super(down, self).__init__()\n",
        "        self.layer = nn.Sequential(\n",
        "            conv(in_ch, out_ch),\n",
        "            nn.MaxPool2d(2)\n",
        "            )\n",
        "\n",
        "    def forward(self, x):\n",
        "        x = self.layer(x)\n",
        "        return x\n",
        "\n",
        "'''\n",
        "# upsampling module equal to a upsample function followed by a conv module\n",
        "'''\n",
        "class up(nn.Module):\n",
        "    def __init__(self, in_ch, out_ch, bilinear=False):\n",
        "        super(up, self).__init__()\n",
        "        if bilinear:\n",
        "            self.up = nn.Upsample(scale_factor=2, mode='bilinear', align_corners=True)\n",
        "        else:\n",
        "            self.up = nn.ConvTranspose2d(in_ch, in_ch, 2, stride=2)\n",
        "\n",
        "        self.conv = conv(in_ch, out_ch)\n",
        "\n",
        "    def forward(self, x):\n",
        "        y = self.up(x)\n",
        "        y = self.conv(y)\n",
        "        return y\n",
        "\n",
        "'''\n",
        "# the main model which you need to complete by using above modules.\n",
        "# you can also modify the above modules in order to improve your results.\n",
        "'''\n",
        "class MyModel(nn.Module):\n",
        "    def __init__(self):\n",
        "        super(MyModel, self).__init__()\n",
        "\n",
        "        self.input_conv = conv(3, 8)\n",
        "        self.down_1 = down(8, 16)\n",
        "        self.down_2 = down(16, 32)\n",
        "        self.down_3 = down(32, 64)\n",
        "        self.down_4 = down(64, 128)\n",
        "        self.down_5 = down(128, 256)\n",
        "        self.down_6 = down(256, 512)\n",
        "\n",
        "        self.up_1 = up(512, 256)\n",
        "        self.up_2 = up(256, 128)\n",
        "        self.up_3 = up(128, 64)\n",
        "        self.up_4 = up(64, 32)\n",
        "        self.up_5 = up(32, 16)\n",
        "        self.up_6 = up(16, 8)\n",
        "        self.up_7 = conv(8, 4)\n",
        "        self.output_conv = conv(4, 1, False)\n",
        "\n",
        "        self.pool1 = nn.BatchNorm2d(256)\n",
        "        self.pool2 = nn.BatchNorm2d(32)\n",
        "        self.pool3 = nn.BatchNorm2d(4)\n",
        "\n",
        "    def forward(self, input):\n",
        "      y = self.input_conv(input)\n",
        "      y = self.down_1(y)\n",
        "      y = self.down_2(y)\n",
        "      y = self.down_3(y)\n",
        "      y = self.down_4(y)\n",
        "      y = self.down_5(y)\n",
        "      y = self.down_6(y)\n",
        "      y = self.pool1(self.up_1(y))\n",
        "      y = self.up_2(y)\n",
        "      y = self.up_3(y)\n",
        "      y = self.pool2(self.up_4(y))\n",
        "      y = self.up_5(y)\n",
        "      y = self.up_6(y)\n",
        "      y = self.pool3(self.up_7(y))\n",
        "      output = self.output_conv(y)\n",
        "      return output"
      ]
    },
    {
      "cell_type": "code",
      "source": [
        "# loader, _ = get_plane_dataset('train', batch_size=2)\n",
        "\n",
        "# # Quick check to see what the DataLoader is returning\n",
        "# for i, data in enumerate(loader):\n",
        "#     print(data)  # This should print a dictionary or a tuple of (image, mask)\n",
        "#     if i > 0:  # Just check the first couple of batches\n",
        "#         break\n"
      ],
      "metadata": {
        "id": "ldog6dLX5TEE"
      },
      "execution_count": null,
      "outputs": []
    },
    {
      "cell_type": "markdown",
      "metadata": {
        "id": "rQj86vD9QT_Z"
      },
      "source": [
        "### Training"
      ]
    },
    {
      "cell_type": "code",
      "execution_count": null,
      "metadata": {
        "id": "MaZuO4SKSBuF"
      },
      "outputs": [],
      "source": [
        "'''\n",
        "# The following is a basic training procedure to train the network\n",
        "# You need to update the code to get the best performance\n",
        "# TODO: approx ? lines\n",
        "'''\n",
        "\n",
        "\n",
        "# Set the hyperparameters\n",
        "num_epochs = 30 ## 15/ 20 / 50 /75\n",
        "batch_size = 8  ## 4\n",
        "learning_rate = 0.002   ##0.0001 / 0.0002 / 0.001 / 0.005 / 0.009\n",
        "weight_decay = 1e-5    ## 1e-4 / 1e-6\n",
        "\n",
        "model = MyModel() # initialize the model\n",
        "model = model.cuda() # move the model to GPU\n",
        "\n",
        "crit = nn.BCEWithLogitsLoss() # Define the loss function\n",
        "optim = torch.optim.SGD(model.parameters(), lr=learning_rate, weight_decay=weight_decay) # Initialize the optimizer as SGD\n",
        "\n",
        "for epoch in range(num_epochs):\n",
        "  total_loss = 0\n",
        "  for (img, mask) in tqdm(loader):\n",
        "    img = torch.tensor(img, device=torch.device('cuda'), requires_grad = True)\n",
        "    mask = torch.tensor(mask, device=torch.device('cuda'), requires_grad = True)\n",
        "    pred = model(img)\n",
        "    loss = crit(pred, mask)\n",
        "    optim.zero_grad()\n",
        "    loss.backward()\n",
        "    optim.step()\n",
        "    total_loss += loss.cpu().data\n",
        "  print(\"Epoch: {}, Loss: {}\".format(epoch, total_loss/len(loader)))\n",
        "  torch.save(model.state_dict(), '{}/output/{}_segmentation_model.pth'.format(BASE_DIR, epoch))\n",
        "\n",
        "'''\n",
        "# Saving the final model\n",
        "'''\n",
        "torch.save(model.state_dict(), '{}/output/final_segmentation_model.pth'.format(BASE_DIR))\n"
      ]
    },
    {
      "cell_type": "markdown",
      "metadata": {
        "id": "0dyez1fyQYw7"
      },
      "source": [
        "### Evaluation and Visualization"
      ]
    },
    {
      "cell_type": "code",
      "execution_count": null,
      "metadata": {
        "id": "TDeViryUSCL2"
      },
      "outputs": [],
      "source": [
        "'''\n",
        "# Before starting the evaluation, you need to set the model mode to eval\n",
        "# You may load the trained model again, in case if you want to continue your code later\n",
        "# TODO: approx 15 lines\n",
        "'''\n",
        "batch_size = 8\n",
        "model = MyModel().cuda()\n",
        "model.load_state_dict(torch.load('{}/output/final_segmentation_model.pth'.format(BASE_DIR)))\n",
        "\n",
        "model.eval() # chaning the model to evaluation mode will fix the bachnorm layers\n",
        "# loader, dataset = get_plane_dataset('train', batch_size)\n",
        "loader = get_plane_dataset(batch_size=batch_size, preloaded_data=preloaded_data)\n",
        "\n",
        "count = 0\n",
        "total_iou = 0\n",
        "\n",
        "for img, mask in tqdm(loader):\n",
        "    with torch.no_grad():\n",
        "        img = img.cuda()\n",
        "        mask = mask.cuda()\n",
        "\n",
        "        # Forward pass to get the logits\n",
        "        pred_logits = model(img)\n",
        "\n",
        "        # Apply sigmoid since we used BCEWithLogitsLoss\n",
        "        pred_probs = torch.sigmoid(pred_logits)\n",
        "\n",
        "        # Threshold the probabilities to create binary mask\n",
        "        pred_mask = pred_probs > 0.5\n",
        "\n",
        "        # Flatten the tensors to compare them\n",
        "        mask_flat = mask.view(-1).cpu().numpy()\n",
        "        pred_mask_flat = pred_mask.view(-1).cpu().numpy()\n",
        "\n",
        "        # Calculate IoU using Jaccard similarity coefficient\n",
        "        iou = jaccard_score(mask_flat, pred_mask_flat)\n",
        "\n",
        "        # Update total IoU and count\n",
        "        total_iou += iou\n",
        "        count += 1\n",
        "\n",
        "# Calculate mean IoU\n",
        "mean_iou = total_iou / count\n",
        "print(\"\\n#images: {}, Mean IoU: {}\".format(count, mean_iou))\n"
      ]
    },
    {
      "cell_type": "code",
      "execution_count": null,
      "metadata": {
        "id": "jbmTj9JICiKz"
      },
      "outputs": [],
      "source": [
        "import matplotlib.pyplot as plt\n",
        "import torchvision\n",
        "\n",
        "for i, (img, mask) in enumerate(loader):\n",
        "    if i >= 3:\n",
        "        break\n",
        "    pred = model(img.cuda()).cpu().detach()\n",
        "    pred_binary = pred[0] > 0.5  # Apply threshold to get binary mask\n",
        "    # Expand the dimensions of mask and pred to have 3 channels\n",
        "    mask_3ch = torch.cat([mask[0]]*3, dim=0)\n",
        "    pred_3ch = torch.cat([pred_binary]*3, dim=0)\n",
        "    grid = torchvision.utils.make_grid([img.cpu()[0], mask_3ch, pred_3ch])\n",
        "    plt.imshow(grid.permute(1, 2, 0))\n",
        "    plt.axis('off')\n",
        "    plt.show()\n"
      ]
    },
    {
      "cell_type": "markdown",
      "metadata": {
        "id": "navoiGdrqaZT"
      },
      "source": [
        "## Part 3: Instance Segmentation\n",
        "\n",
        "In this part, you need to obtain the instance segmentation results for the test data by using the trained segmentation model in the previous part and the detection model in Part 1."
      ]
    },
    {
      "cell_type": "markdown",
      "metadata": {
        "id": "vBwk33DGBowP"
      },
      "source": [
        "### Get Prediction"
      ]
    },
    {
      "cell_type": "code",
      "source": [
        "#bS\n",
        "training_data = get_detection_data('train')"
      ],
      "metadata": {
        "id": "s0xTNqLsRr2i"
      },
      "execution_count": null,
      "outputs": []
    },
    {
      "cell_type": "code",
      "source": [
        "dictionary = []\n",
        "for i in (training_data):\n",
        "  rec = {}\n",
        "  filename = i['file_name']\n",
        "  img = cv2.imread(filename)\n",
        "  height = i['height']\n",
        "  width = i['width']\n",
        "  annotations = i['annotations']\n",
        "  all_objs = []\n",
        "  for j in annotations:\n",
        "    segmentation = j [\"segmentation\"]\n",
        "    obj_mask = GenericMask(segmentation, height, width).mask\n",
        "    bbox = j['bbox']\n",
        "\n",
        "    x = int(bbox [0])\n",
        "    y = int(bbox [1])\n",
        "    w = int(bbox [0] + bbox [2])\n",
        "    h = int(bbox [1] + bbox [3])\n",
        "\n",
        "    obj_mask = obj_mask[ y :  h, x : w ]\n",
        "    obj_mask = cv2.resize(obj_mask, (128, 128), interpolation = cv2.INTER_AREA)\n",
        "\n",
        "    obj_img = img[ y :  h, x : w ]\n",
        "    obj_img = cv2.resize(obj_img, (128, 128), interpolation = cv2.INTER_AREA)\n",
        "\n",
        "    obj = {\n",
        "        \"mask\": obj_mask,\n",
        "        \"image\": obj_img\n",
        "    }\n",
        "    all_objs.append(obj)\n",
        "  rec['filename'] = filename\n",
        "  rec['annotations'] = all_objs\n",
        "  dictionary.append(rec)"
      ],
      "metadata": {
        "id": "pgm71yftRtye"
      },
      "execution_count": null,
      "outputs": []
    },
    {
      "cell_type": "code",
      "execution_count": null,
      "metadata": {
        "id": "crrZ8TG-Ot2J"
      },
      "outputs": [],
      "source": [
        "'''\n",
        "# Define a new function to obtain the prediction mask by passing a sample data\n",
        "# For this part, you need to use all the previous parts (predictor, get_instance_sample, data preprocessings, etc)\n",
        "# It is better to keep everything (as well as the output of this funcion) on gpu as tensors to speed up the operations.\n",
        "# pred_mask is the instance segmentation result and should have different values for different planes.\n",
        "# TODO: approx 35 lines\n",
        "'''\n",
        "def get_prediction_mask(data):\n",
        "\n",
        "  if len(data['annotations']) != 0: #train data\n",
        "    height = data['height']\n",
        "    width = data['width']\n",
        "    annotations = data['annotations']\n",
        "    masks_array = np.zeros([height, width])\n",
        "    zeros_array = np.zeros([height, width])\n",
        "    filename = data['file_name']\n",
        "    img = cv2.imread(filename)\n",
        "\n",
        "    for i, j in enumerate(annotations):\n",
        "      bbox = j['bbox']\n",
        "\n",
        "      x = int(bbox [0])\n",
        "      y = int(bbox [1])\n",
        "      w = int(bbox [0] + bbox [2])\n",
        "      h = int(bbox [1] + bbox [3])\n",
        "\n",
        "      obj_img = img[ y :  h, x : w ]\n",
        "      obj_img = cv2.resize(obj_img, (128, 128), interpolation = cv2.INTER_AREA)\n",
        "\n",
        "      pred = torch.unsqueeze(torch.tensor(transforms.ToTensor()(obj_img), device=torch.device('cuda')), 0)\n",
        "      pred = model(pred).cpu().detach().numpy()[0]\n",
        "      prediction = cv2.resize(pred[0], (w-x, h-y), interpolation = cv2.INTER_AREA)\n",
        "      prediction = 1/(1 + np.exp(-prediction))\n",
        "      prediction = np.rint(np.array((prediction)))*(i+1)\n",
        "\n",
        "\n",
        "      predictions = masks_array[y:h, x:w]\n",
        "      predictions[predictions==0] = 10000\n",
        "\n",
        "      overlapping = np.minimum(prediction, predictions)\n",
        "      overlapping[overlapping == 1000] = 0\n",
        "      masks_array[y:h, x:w] = overlapping\n",
        "      pred_mask = masks_array\n",
        "      pred_mask = torch.tensor(pred_mask, device = torch.device('cuda'))\n",
        "\n",
        "      truth = detectron2.utils.visualizer.GenericMask(j['segmentation'], height, width).mask\n",
        "      overlapping = np.maximum(zeros_array[y:h, x:w],truth[y:h, x:w]*(i+1))\n",
        "      zeros_array[y:h, x:w] = overlapping\n",
        "\n",
        "      gt_mask = zeros_array\n",
        "      gt_mask = torch.tensor(gt_mask, device = torch.device('cuda') )\n",
        "\n",
        "  else: #test\n",
        "    height = data['height']\n",
        "    width = data['width']\n",
        "    annotations = data['annotations']\n",
        "    masks_array = np.zeros([height, width])\n",
        "    zeros_array = np.zeros([height, width])\n",
        "    filename = data['file_name']\n",
        "    img = cv2.imread(filename)\n",
        "    predict = predictor(img)['instances']\n",
        "\n",
        "    for i in range(len(predict)):\n",
        "      bbox = np.array(np.floor(list(predict[i]._fields['pred_boxes'])[0].cpu().numpy()), dtype=np.uint32)\n",
        "      x = int(bbox [0])\n",
        "      y = int(bbox [1])\n",
        "      w = int(bbox [2])\n",
        "      h = int(bbox [3])\n",
        "      obj_img = img[ y :  h, x : w ]\n",
        "      obj_img = cv2.resize(obj_img, (128, 128), interpolation = cv2.INTER_AREA)\n",
        "\n",
        "      pred = torch.unsqueeze(torch.tensor(transforms.ToTensor()(obj_img), device=torch.device('cuda')), 0)\n",
        "      pred = model(pred).cpu().detach().numpy()[0]\n",
        "      prediction = cv2.resize(pred[0], (w-x, h-y), interpolation = cv2.INTER_AREA)\n",
        "      prediction = 1/(1 + np.exp(-prediction))\n",
        "      prediction = np.rint(np.array((prediction)))*(i+1)\n",
        "\n",
        "      predictions = masks_array[y:h, x:w]\n",
        "      predictions[predictions==0] = 10000\n",
        "\n",
        "      overlapping = np.minimum(prediction, predictions)\n",
        "      overlapping[overlapping == 1000] = 0\n",
        "      masks_array[y:h, x:w] = overlapping\n",
        "\n",
        "    pred_mask = masks_array\n",
        "    pred_mask = torch.tensor(pred_mask, device = torch.device('cuda'))\n",
        "    gt_mask = zeros_array\n",
        "    gt_mask = torch.tensor(gt_mask, device = torch.device('cuda'))\n",
        "\n",
        "  return img, gt_mask, pred_mask\n"
      ]
    },
    {
      "cell_type": "markdown",
      "metadata": {
        "id": "fc7TSK6EBi9u"
      },
      "source": [
        "### Visualization and Submission"
      ]
    },
    {
      "cell_type": "code",
      "execution_count": null,
      "metadata": {
        "id": "H7T2YX8MBiGO"
      },
      "outputs": [],
      "source": [
        "'''\n",
        "# Visualise the output prediction as well as the GT Mask and Input image for a sample input\n",
        "# TODO: approx 10 lines\n",
        "'''\n",
        "\n",
        "for data in random.sample(training_data, 3):\n",
        "  img, true_mask, pred_mask = get_prediction_mask(data)\n",
        "\n",
        "  gt = true_mask.cpu().numpy()\n",
        "  gt = gt * gt.max()\n",
        "\n",
        "  prediction = pred_mask.cpu().numpy()\n",
        "  prediction = prediction * prediction.max()\n",
        "\n",
        "  cv2_imshow(cv2.resize(img, (img.shape[1]//3, img.shape[0]//3), interpolation = cv2.INTER_AREA))\n",
        "  cv2_imshow(cv2.resize(gt, (gt.shape[1]//3, gt.shape[0]//3), interpolation = cv2.INTER_AREA))\n",
        "  cv2_imshow(cv2.resize(prediction, (prediction.shape[1]//3, prediction.shape[0]//3), interpolation = cv2.INTER_AREA))\n"
      ]
    },
    {
      "cell_type": "code",
      "execution_count": null,
      "metadata": {
        "id": "uPo_03up-g_f"
      },
      "outputs": [],
      "source": [
        "'''\n",
        "# ref: https://www.kaggle.com/rakhlin/fast-run-length-encoding-python\n",
        "# https://www.kaggle.com/c/airbus-ship-detection/overview/evaluation\n",
        "'''\n",
        "def rle_encoding(x):\n",
        "    '''\n",
        "    x: pytorch tensor on gpu, 1 - mask, 0 - background\n",
        "    Returns run length as list\n",
        "    '''\n",
        "    dots = torch.where(torch.flatten(x.long())==1)[0]\n",
        "    if(len(dots)==0):\n",
        "      return []\n",
        "    inds = torch.where(dots[1:]!=dots[:-1]+1)[0]+1\n",
        "    inds = torch.cat((torch.tensor([0], device=torch.device('cuda'), dtype=torch.long), inds))\n",
        "    tmpdots = dots[inds]\n",
        "    inds = torch.cat((inds, torch.tensor([len(dots)], device=torch.device('cuda'))))\n",
        "    inds = inds[1:] - inds[:-1]\n",
        "    runs = torch.cat((tmpdots, inds)).reshape((2,-1))\n",
        "    runs = torch.flatten(torch.transpose(runs, 0, 1)).cpu().data.numpy()\n",
        "    return ' '.join([str(i) for i in runs])"
      ]
    },
    {
      "cell_type": "code",
      "execution_count": null,
      "metadata": {
        "id": "zv0rab2LJev-"
      },
      "outputs": [],
      "source": [
        "'''\n",
        "# You need to upload the csv file on kaggle\n",
        "# The speed of your code in the previous parts highly affects the running time of this part\n",
        "'''\n",
        "\n",
        "preddic = {\"ImageId\": [], \"EncodedPixels\": []}\n",
        "\n",
        "'''\n",
        "# Writing the predictions of the training set\n",
        "'''\n",
        "my_data_list = DatasetCatalog.get(\"data_detection_{}\".format('train'))\n",
        "for i in tqdm(range(len(my_data_list)), position=0, leave=True):\n",
        "  sample = my_data_list[i]\n",
        "  sample['image_id'] = sample['file_name'].split(\"/\")[-1][:-4]\n",
        "  img, true_mask, pred_mask = get_prediction_mask(sample)\n",
        "  inds = torch.unique(pred_mask)\n",
        "  if(len(inds)==1):\n",
        "    preddic['ImageId'].append(sample['image_id'])\n",
        "    preddic['EncodedPixels'].append([])\n",
        "  else:\n",
        "    for index in inds:\n",
        "      if(index == 0):\n",
        "        continue\n",
        "      tmp_mask = (pred_mask==index)\n",
        "      encPix = rle_encoding(tmp_mask)\n",
        "      preddic['ImageId'].append(sample['image_id'])\n",
        "      preddic['EncodedPixels'].append(encPix)\n",
        "\n",
        "'''\n",
        "# Writing the predictions of the test set\n",
        "'''\n",
        "\n",
        "my_data_list = DatasetCatalog.get(\"data_detection_{}\".format('test'))\n",
        "for i in tqdm(range(len(my_data_list)), position=0, leave=True):\n",
        "  sample = my_data_list[i]\n",
        "  sample['image_id'] = sample['file_name'].split(\"/\")[-1][:-4]\n",
        "  img, true_mask, pred_mask = get_prediction_mask(sample)\n",
        "  inds = torch.unique(pred_mask)\n",
        "  if(len(inds)==1):\n",
        "    preddic['ImageId'].append(sample['image_id'])\n",
        "    preddic['EncodedPixels'].append([])\n",
        "  else:\n",
        "    for j, index in enumerate(inds):\n",
        "      if(index == 0):\n",
        "        continue\n",
        "      tmp_mask = (pred_mask==index).double()\n",
        "      encPix = rle_encoding(tmp_mask)\n",
        "      preddic['ImageId'].append(sample['image_id'])\n",
        "      preddic['EncodedPixels'].append(encPix)\n",
        "\n",
        "pred_file = open(\"{}/pred.csv\".format(BASE_DIR), 'w')\n",
        "pd.DataFrame(preddic).to_csv(pred_file, index=False)\n",
        "pred_file.close()\n"
      ]
    },
    {
      "cell_type": "markdown",
      "metadata": {
        "id": "p7nN4SduqrpI"
      },
      "source": [
        "## Part 4: Mask R-CNN\n",
        "\n",
        "For this part you need to follow a same procedure to part 2 with the configs of Mask R-CNN, other parts are generally the same as part 2."
      ]
    },
    {
      "cell_type": "markdown",
      "metadata": {
        "id": "axWf7drKNXYd"
      },
      "source": [
        "### Data Loader"
      ]
    },
    {
      "cell_type": "code",
      "execution_count": null,
      "metadata": {
        "id": "yC1FDCcQN2LH"
      },
      "outputs": [],
      "source": [
        "def get_detection_data(set_name):\n",
        "  data_dirs = '{}/data'.format(BASE_DIR)\n",
        "  path = os.path.join(data_dirs, set_name)\n",
        "  dataset = []\n",
        "\n",
        "  if set_name == 'train':\n",
        "    json_file = os.path.join(data_dirs, \"train.json\")\n",
        "\n",
        "    with open(json_file) as f:\n",
        "        train_imgs_anns = json.load(f)\n",
        "\n",
        "    read = []\n",
        "    for idx, v in enumerate(train_imgs_anns):\n",
        "      record = {}\n",
        "      filename = os.path.join(path, v[\"file_name\"])\n",
        "      if v[\"file_name\"] not in read or len(read) == 0:\n",
        "        height, width = cv2.imread(filename).shape[:2]\n",
        "        record[\"file_name\"] = filename\n",
        "        record[\"image_id\"] = idx\n",
        "        record[\"height\"] = height\n",
        "        record[\"width\"] = width\n",
        "        record[\"annotations\"] = []\n",
        "        read.append(v[\"file_name\"])\n",
        "        dataset.append(record)\n",
        "\n",
        "      obj = {\n",
        "                  \"bbox\": v['bbox'],\n",
        "                  \"bbox_mode\": BoxMode.XYWH_ABS,\n",
        "                  \"segmentation\": v['segmentation'],\n",
        "                  \"category_id\": 0,\n",
        "                  \"iscrowd\": v['iscrowd'],\n",
        "                  \"area\": v['area'],\n",
        "              }\n",
        "\n",
        "      read_size = len(read)\n",
        "      dataset[read_size - 1][\"annotations\"].append(obj)\n",
        "\n",
        "  elif set_name == 'test':\n",
        "    for file_name in os.listdir(path):\n",
        "      record = {}\n",
        "      filename = os.path.join(path, file_name)\n",
        "      height, width = cv2.imread(filename).shape[:2]\n",
        "      record[\"file_name\"] = filename\n",
        "      record[\"height\"] = height\n",
        "      record[\"width\"] = width\n",
        "      record[\"annotations\"] = []\n",
        "      dataset.append(record)\n",
        "\n",
        "  return dataset"
      ]
    },
    {
      "cell_type": "code",
      "source": [
        "dataset_dicts = get_detection_data(\"train\")\n",
        "for d in random.sample(dataset_dicts, 3):\n",
        "    img = cv2.imread(d[\"file_name\"])\n",
        "    visualizer = Visualizer(img[:, :, ::-1], metadata=plane_metadata, scale=0.5)\n",
        "    out = visualizer.draw_dataset_dict(d)\n",
        "    cv2_imshow(out.get_image()[:, :, ::-1])"
      ],
      "metadata": {
        "id": "3zsMOwzT841B"
      },
      "execution_count": null,
      "outputs": []
    },
    {
      "cell_type": "markdown",
      "metadata": {
        "id": "lG5slAhQNjE7"
      },
      "source": [
        "### Network"
      ]
    },
    {
      "cell_type": "code",
      "execution_count": null,
      "metadata": {
        "id": "KG1pnKLMOcjS"
      },
      "outputs": [],
      "source": [
        "cfg = get_cfg()\n",
        "cfg.OUTPUT_DIR = \"{}/output/\".format(BASE_DIR)\n",
        "\n",
        "cfg.merge_from_file(model_zoo.get_config_file('COCO-InstanceSegmentation/mask_rcnn_R_50_FPN_3x.yaml'))\n",
        "cfg.DATASETS.TRAIN = (\"data_detection_train\")\n",
        "cfg.DATASETS.TEST = ()\n",
        "cfg.DATALOADER.NUM_WORKERS = 4\n",
        "cfg.MODEL.WEIGHTS = model_zoo.get_checkpoint_url(\"COCO-InstanceSegmentation/mask_rcnn_R_50_FPN_3x.yaml\")  # Let training initialize from model zoo\n",
        "cfg.SOLVER.IMS_PER_BATCH = 2\n",
        "cfg.SOLVER.BASE_LR = 0.003\n",
        "cfg.SOLVER.MAX_ITER = 800\n",
        "cfg.SOLVER.STEPS = []\n",
        "cfg.MODEL.ROI_HEADS.BATCH_SIZE_PER_IMAGE = 512"
      ]
    },
    {
      "cell_type": "markdown",
      "metadata": {
        "id": "t7ifeV1sNvtt"
      },
      "source": [
        "### Training"
      ]
    },
    {
      "cell_type": "code",
      "execution_count": null,
      "metadata": {
        "id": "tc4K0Nz5OeKk"
      },
      "outputs": [],
      "source": [
        "os.makedirs(cfg.OUTPUT_DIR, exist_ok=True)\n",
        "trainer = DefaultTrainer(cfg)\n",
        "trainer.resume_or_load(resume=False)\n",
        "trainer.train()"
      ]
    },
    {
      "cell_type": "markdown",
      "metadata": {
        "id": "298QruFnNxyn"
      },
      "source": [
        "### Evaluation and Visualization"
      ]
    },
    {
      "cell_type": "code",
      "execution_count": null,
      "metadata": {
        "id": "KcGwV5-9Oetp"
      },
      "outputs": [],
      "source": [
        "cfg.MODEL.WEIGHTS = os.path.join(cfg.OUTPUT_DIR, \"model_final.pth\")  # path to the model we just trained\n",
        "cfg.MODEL.ROI_HEADS.SCORE_THRESH_TEST = 0.6   # set a custom testing threshold\n",
        "predictor = DefaultPredictor(cfg)"
      ]
    },
    {
      "cell_type": "code",
      "execution_count": null,
      "metadata": {
        "id": "l_3wS2BFLLGp"
      },
      "outputs": [],
      "source": [
        "evaluator = COCOEvaluator(\"data_detection_train\", output_dir=\"./output\")\n",
        "val_loader = build_detection_test_loader(cfg, \"data_detection_train\")\n",
        "print(inference_on_dataset(predictor.model, val_loader, evaluator))\n",
        "# another equivalent way to evaluate the model is to use `trainer.test`"
      ]
    },
    {
      "cell_type": "code",
      "source": [],
      "metadata": {
        "id": "R5QcJhbuyZxp"
      },
      "execution_count": null,
      "outputs": []
    }
  ],
  "metadata": {
    "accelerator": "GPU",
    "colab": {
      "provenance": [],
      "gpuType": "V100",
      "machine_shape": "hm"
    },
    "kernelspec": {
      "display_name": "Python 3",
      "name": "python3"
    }
  },
  "nbformat": 4,
  "nbformat_minor": 0
}